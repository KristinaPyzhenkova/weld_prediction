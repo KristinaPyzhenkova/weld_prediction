{
  "cells": [
    {
      "cell_type": "markdown",
      "source": [
        "# Импорты"
      ],
      "metadata": {
        "id": "FjwnD9KNlLhG"
      },
      "id": "FjwnD9KNlLhG"
    },
    {
      "cell_type": "code",
      "source": [
        "import pandas as pd\n",
        "import numpy as np\n",
        "import seaborn as sns\n",
        "import matplotlib.pyplot as plt\n",
        "from sklearn.model_selection import train_test_split\n",
        "from sklearn.preprocessing import MinMaxScaler\n",
        "from sklearn.multioutput import MultiOutputRegressor\n",
        "from sklearn.linear_model import LinearRegression\n",
        "from sklearn.ensemble import RandomForestRegressor, GradientBoostingRegressor\n",
        "from sklearn.model_selection import cross_val_score, cross_val_predict, GridSearchCV\n",
        "from sklearn.metrics import make_scorer, mean_squared_error, mean_absolute_error\n",
        "from sklearn import tree\n",
        "%matplotlib inline\n",
        "sns.set(style=\"whitegrid\")\n",
        "\n",
        "from sklearn.preprocessing import MinMaxScaler"
      ],
      "metadata": {
        "id": "eDA2arqplMjQ"
      },
      "id": "eDA2arqplMjQ",
      "execution_count": 199,
      "outputs": []
    },
    {
      "cell_type": "markdown",
      "source": [
        "# Загрузка датасета"
      ],
      "metadata": {
        "id": "1VTEuE9Qr7W7"
      },
      "id": "1VTEuE9Qr7W7"
    },
    {
      "cell_type": "code",
      "execution_count": 200,
      "id": "eacae0cc",
      "metadata": {
        "id": "eacae0cc"
      },
      "outputs": [],
      "source": [
        "data = pd.read_csv('/content/ebw_data.csv')"
      ]
    },
    {
      "cell_type": "code",
      "execution_count": 201,
      "id": "29c0e402",
      "metadata": {
        "colab": {
          "base_uri": "https://localhost:8080/",
          "height": 206
        },
        "id": "29c0e402",
        "outputId": "696298d1-f629-4f51-8a2a-74f8d1745444"
      },
      "outputs": [
        {
          "output_type": "execute_result",
          "data": {
            "text/plain": [
              "   IW   IF   VW  FP  Depth  Width\n",
              "0  47  139  4.5  80   1.60   2.54\n",
              "1  47  139  4.5  80   1.62   2.50\n",
              "2  47  139  4.5  80   1.68   2.60\n",
              "3  47  139  4.5  80   1.58   2.52\n",
              "4  45  140  4.5  80   1.76   2.48"
            ],
            "text/html": [
              "\n",
              "  <div id=\"df-9167aa4e-2e27-4742-82da-800e408541b5\" class=\"colab-df-container\">\n",
              "    <div>\n",
              "<style scoped>\n",
              "    .dataframe tbody tr th:only-of-type {\n",
              "        vertical-align: middle;\n",
              "    }\n",
              "\n",
              "    .dataframe tbody tr th {\n",
              "        vertical-align: top;\n",
              "    }\n",
              "\n",
              "    .dataframe thead th {\n",
              "        text-align: right;\n",
              "    }\n",
              "</style>\n",
              "<table border=\"1\" class=\"dataframe\">\n",
              "  <thead>\n",
              "    <tr style=\"text-align: right;\">\n",
              "      <th></th>\n",
              "      <th>IW</th>\n",
              "      <th>IF</th>\n",
              "      <th>VW</th>\n",
              "      <th>FP</th>\n",
              "      <th>Depth</th>\n",
              "      <th>Width</th>\n",
              "    </tr>\n",
              "  </thead>\n",
              "  <tbody>\n",
              "    <tr>\n",
              "      <th>0</th>\n",
              "      <td>47</td>\n",
              "      <td>139</td>\n",
              "      <td>4.5</td>\n",
              "      <td>80</td>\n",
              "      <td>1.60</td>\n",
              "      <td>2.54</td>\n",
              "    </tr>\n",
              "    <tr>\n",
              "      <th>1</th>\n",
              "      <td>47</td>\n",
              "      <td>139</td>\n",
              "      <td>4.5</td>\n",
              "      <td>80</td>\n",
              "      <td>1.62</td>\n",
              "      <td>2.50</td>\n",
              "    </tr>\n",
              "    <tr>\n",
              "      <th>2</th>\n",
              "      <td>47</td>\n",
              "      <td>139</td>\n",
              "      <td>4.5</td>\n",
              "      <td>80</td>\n",
              "      <td>1.68</td>\n",
              "      <td>2.60</td>\n",
              "    </tr>\n",
              "    <tr>\n",
              "      <th>3</th>\n",
              "      <td>47</td>\n",
              "      <td>139</td>\n",
              "      <td>4.5</td>\n",
              "      <td>80</td>\n",
              "      <td>1.58</td>\n",
              "      <td>2.52</td>\n",
              "    </tr>\n",
              "    <tr>\n",
              "      <th>4</th>\n",
              "      <td>45</td>\n",
              "      <td>140</td>\n",
              "      <td>4.5</td>\n",
              "      <td>80</td>\n",
              "      <td>1.76</td>\n",
              "      <td>2.48</td>\n",
              "    </tr>\n",
              "  </tbody>\n",
              "</table>\n",
              "</div>\n",
              "    <div class=\"colab-df-buttons\">\n",
              "\n",
              "  <div class=\"colab-df-container\">\n",
              "    <button class=\"colab-df-convert\" onclick=\"convertToInteractive('df-9167aa4e-2e27-4742-82da-800e408541b5')\"\n",
              "            title=\"Convert this dataframe to an interactive table.\"\n",
              "            style=\"display:none;\">\n",
              "\n",
              "  <svg xmlns=\"http://www.w3.org/2000/svg\" height=\"24px\" viewBox=\"0 -960 960 960\">\n",
              "    <path d=\"M120-120v-720h720v720H120Zm60-500h600v-160H180v160Zm220 220h160v-160H400v160Zm0 220h160v-160H400v160ZM180-400h160v-160H180v160Zm440 0h160v-160H620v160ZM180-180h160v-160H180v160Zm440 0h160v-160H620v160Z\"/>\n",
              "  </svg>\n",
              "    </button>\n",
              "\n",
              "  <style>\n",
              "    .colab-df-container {\n",
              "      display:flex;\n",
              "      gap: 12px;\n",
              "    }\n",
              "\n",
              "    .colab-df-convert {\n",
              "      background-color: #E8F0FE;\n",
              "      border: none;\n",
              "      border-radius: 50%;\n",
              "      cursor: pointer;\n",
              "      display: none;\n",
              "      fill: #1967D2;\n",
              "      height: 32px;\n",
              "      padding: 0 0 0 0;\n",
              "      width: 32px;\n",
              "    }\n",
              "\n",
              "    .colab-df-convert:hover {\n",
              "      background-color: #E2EBFA;\n",
              "      box-shadow: 0px 1px 2px rgba(60, 64, 67, 0.3), 0px 1px 3px 1px rgba(60, 64, 67, 0.15);\n",
              "      fill: #174EA6;\n",
              "    }\n",
              "\n",
              "    .colab-df-buttons div {\n",
              "      margin-bottom: 4px;\n",
              "    }\n",
              "\n",
              "    [theme=dark] .colab-df-convert {\n",
              "      background-color: #3B4455;\n",
              "      fill: #D2E3FC;\n",
              "    }\n",
              "\n",
              "    [theme=dark] .colab-df-convert:hover {\n",
              "      background-color: #434B5C;\n",
              "      box-shadow: 0px 1px 3px 1px rgba(0, 0, 0, 0.15);\n",
              "      filter: drop-shadow(0px 1px 2px rgba(0, 0, 0, 0.3));\n",
              "      fill: #FFFFFF;\n",
              "    }\n",
              "  </style>\n",
              "\n",
              "    <script>\n",
              "      const buttonEl =\n",
              "        document.querySelector('#df-9167aa4e-2e27-4742-82da-800e408541b5 button.colab-df-convert');\n",
              "      buttonEl.style.display =\n",
              "        google.colab.kernel.accessAllowed ? 'block' : 'none';\n",
              "\n",
              "      async function convertToInteractive(key) {\n",
              "        const element = document.querySelector('#df-9167aa4e-2e27-4742-82da-800e408541b5');\n",
              "        const dataTable =\n",
              "          await google.colab.kernel.invokeFunction('convertToInteractive',\n",
              "                                                    [key], {});\n",
              "        if (!dataTable) return;\n",
              "\n",
              "        const docLinkHtml = 'Like what you see? Visit the ' +\n",
              "          '<a target=\"_blank\" href=https://colab.research.google.com/notebooks/data_table.ipynb>data table notebook</a>'\n",
              "          + ' to learn more about interactive tables.';\n",
              "        element.innerHTML = '';\n",
              "        dataTable['output_type'] = 'display_data';\n",
              "        await google.colab.output.renderOutput(dataTable, element);\n",
              "        const docLink = document.createElement('div');\n",
              "        docLink.innerHTML = docLinkHtml;\n",
              "        element.appendChild(docLink);\n",
              "      }\n",
              "    </script>\n",
              "  </div>\n",
              "\n",
              "\n",
              "<div id=\"df-e18d0725-003c-4349-8886-3cd83b5190ec\">\n",
              "  <button class=\"colab-df-quickchart\" onclick=\"quickchart('df-e18d0725-003c-4349-8886-3cd83b5190ec')\"\n",
              "            title=\"Suggest charts.\"\n",
              "            style=\"display:none;\">\n",
              "\n",
              "<svg xmlns=\"http://www.w3.org/2000/svg\" height=\"24px\"viewBox=\"0 0 24 24\"\n",
              "     width=\"24px\">\n",
              "    <g>\n",
              "        <path d=\"M19 3H5c-1.1 0-2 .9-2 2v14c0 1.1.9 2 2 2h14c1.1 0 2-.9 2-2V5c0-1.1-.9-2-2-2zM9 17H7v-7h2v7zm4 0h-2V7h2v10zm4 0h-2v-4h2v4z\"/>\n",
              "    </g>\n",
              "</svg>\n",
              "  </button>\n",
              "\n",
              "<style>\n",
              "  .colab-df-quickchart {\n",
              "      --bg-color: #E8F0FE;\n",
              "      --fill-color: #1967D2;\n",
              "      --hover-bg-color: #E2EBFA;\n",
              "      --hover-fill-color: #174EA6;\n",
              "      --disabled-fill-color: #AAA;\n",
              "      --disabled-bg-color: #DDD;\n",
              "  }\n",
              "\n",
              "  [theme=dark] .colab-df-quickchart {\n",
              "      --bg-color: #3B4455;\n",
              "      --fill-color: #D2E3FC;\n",
              "      --hover-bg-color: #434B5C;\n",
              "      --hover-fill-color: #FFFFFF;\n",
              "      --disabled-bg-color: #3B4455;\n",
              "      --disabled-fill-color: #666;\n",
              "  }\n",
              "\n",
              "  .colab-df-quickchart {\n",
              "    background-color: var(--bg-color);\n",
              "    border: none;\n",
              "    border-radius: 50%;\n",
              "    cursor: pointer;\n",
              "    display: none;\n",
              "    fill: var(--fill-color);\n",
              "    height: 32px;\n",
              "    padding: 0;\n",
              "    width: 32px;\n",
              "  }\n",
              "\n",
              "  .colab-df-quickchart:hover {\n",
              "    background-color: var(--hover-bg-color);\n",
              "    box-shadow: 0 1px 2px rgba(60, 64, 67, 0.3), 0 1px 3px 1px rgba(60, 64, 67, 0.15);\n",
              "    fill: var(--button-hover-fill-color);\n",
              "  }\n",
              "\n",
              "  .colab-df-quickchart-complete:disabled,\n",
              "  .colab-df-quickchart-complete:disabled:hover {\n",
              "    background-color: var(--disabled-bg-color);\n",
              "    fill: var(--disabled-fill-color);\n",
              "    box-shadow: none;\n",
              "  }\n",
              "\n",
              "  .colab-df-spinner {\n",
              "    border: 2px solid var(--fill-color);\n",
              "    border-color: transparent;\n",
              "    border-bottom-color: var(--fill-color);\n",
              "    animation:\n",
              "      spin 1s steps(1) infinite;\n",
              "  }\n",
              "\n",
              "  @keyframes spin {\n",
              "    0% {\n",
              "      border-color: transparent;\n",
              "      border-bottom-color: var(--fill-color);\n",
              "      border-left-color: var(--fill-color);\n",
              "    }\n",
              "    20% {\n",
              "      border-color: transparent;\n",
              "      border-left-color: var(--fill-color);\n",
              "      border-top-color: var(--fill-color);\n",
              "    }\n",
              "    30% {\n",
              "      border-color: transparent;\n",
              "      border-left-color: var(--fill-color);\n",
              "      border-top-color: var(--fill-color);\n",
              "      border-right-color: var(--fill-color);\n",
              "    }\n",
              "    40% {\n",
              "      border-color: transparent;\n",
              "      border-right-color: var(--fill-color);\n",
              "      border-top-color: var(--fill-color);\n",
              "    }\n",
              "    60% {\n",
              "      border-color: transparent;\n",
              "      border-right-color: var(--fill-color);\n",
              "    }\n",
              "    80% {\n",
              "      border-color: transparent;\n",
              "      border-right-color: var(--fill-color);\n",
              "      border-bottom-color: var(--fill-color);\n",
              "    }\n",
              "    90% {\n",
              "      border-color: transparent;\n",
              "      border-bottom-color: var(--fill-color);\n",
              "    }\n",
              "  }\n",
              "</style>\n",
              "\n",
              "  <script>\n",
              "    async function quickchart(key) {\n",
              "      const quickchartButtonEl =\n",
              "        document.querySelector('#' + key + ' button');\n",
              "      quickchartButtonEl.disabled = true;  // To prevent multiple clicks.\n",
              "      quickchartButtonEl.classList.add('colab-df-spinner');\n",
              "      try {\n",
              "        const charts = await google.colab.kernel.invokeFunction(\n",
              "            'suggestCharts', [key], {});\n",
              "      } catch (error) {\n",
              "        console.error('Error during call to suggestCharts:', error);\n",
              "      }\n",
              "      quickchartButtonEl.classList.remove('colab-df-spinner');\n",
              "      quickchartButtonEl.classList.add('colab-df-quickchart-complete');\n",
              "    }\n",
              "    (() => {\n",
              "      let quickchartButtonEl =\n",
              "        document.querySelector('#df-e18d0725-003c-4349-8886-3cd83b5190ec button');\n",
              "      quickchartButtonEl.style.display =\n",
              "        google.colab.kernel.accessAllowed ? 'block' : 'none';\n",
              "    })();\n",
              "  </script>\n",
              "</div>\n",
              "    </div>\n",
              "  </div>\n"
            ]
          },
          "metadata": {},
          "execution_count": 201
        }
      ],
      "source": [
        "data.head()"
      ]
    },
    {
      "cell_type": "markdown",
      "id": "f5f532fd",
      "metadata": {
        "id": "f5f532fd"
      },
      "source": [
        "# Разведочный анализ данных\n",
        "На данном этапе ознакомимся с данными для понимания распределения данных и выявления возможных зависимостей между переменными.\n",
        "\n",
        "Данные:\n",
        "* IW (снижение величины сварочного тока);\n",
        "* IF (ток фокусировки электронного пучка);\n",
        "* VW (скорость сварки);\n",
        "* FP (расстояние от поверхности образцов до электронно-оптической системы);\n",
        "* Глубина шва (Depth);\n",
        "* Ширина шва (Width)."
      ]
    },
    {
      "cell_type": "code",
      "execution_count": 202,
      "id": "899c920a",
      "metadata": {
        "colab": {
          "base_uri": "https://localhost:8080/",
          "height": 419
        },
        "id": "899c920a",
        "outputId": "54e3ecc4-3164-4d67-d73b-cbb856cafd83"
      },
      "outputs": [
        {
          "output_type": "display_data",
          "data": {
            "text/plain": [
              "<Figure size 1000x400 with 2 Axes>"
            ],
            "image/png": "[encoded data removed]"
          },
          "metadata": {}
        }
      ],
      "source": [
        "# Гистограммы и ящики с усами\n",
        "plt.figure(figsize=(10, 4))\n",
        "plt.subplot(1, 2, 1)\n",
        "sns.histplot(data.Depth, bins=20, kde=True)\n",
        "plt.title('Гистограмма глубины сварного шва')\n",
        "plt.subplot(1, 2, 2)\n",
        "sns.boxplot(x=data.Depth)\n",
        "plt.title('Ящик с усами для глубины сварного шва')\n",
        "plt.show()"
      ]
    },
    {
      "cell_type": "markdown",
      "source": [
        "Из графика гистограммы глубины сварного шва можно сделать следующие наблюдения:\n",
        "\n",
        "Распределение глубины сварного шва имеет несколько мод. Это может указывать на наличие различных процессов сварки или влияние разных параметров на глубину шва.\n",
        "\n",
        "Есть несколько выбросов значений, выходящих за пределы основного диапазона. Эти выбросы могут быть результатом особенных условий сварки или ошибок измерения.\n",
        "\n",
        "На основе графика ящика с усами можно сделать следующие наблюдения:\n",
        "\n",
        "Медиана глубины сварного шва находится около 1.2 мм.\n",
        "\n",
        "Верхний и нижний квартили указывают на то, что большинство значений находятся между примерно 0.8 и 1.6 мм.\n",
        "\n",
        "Есть несколько выбросов значений с глубиной сварного шва ниже 0.8 мм и выше 1.6 мм."
      ],
      "metadata": {
        "id": "3UD97EM_92fo"
      },
      "id": "3UD97EM_92fo"
    },
    {
      "cell_type": "code",
      "source": [
        "plt.figure(figsize=(10, 4))\n",
        "plt.subplot(1, 2, 1)\n",
        "sns.histplot(data.Width, bins=20, kde=True)\n",
        "plt.title('Гистограмма ширины сварного шва')\n",
        "plt.subplot(1, 2, 2)\n",
        "sns.boxplot(x=data.Width)\n",
        "plt.title('Ящик с усами для ширины сварного шва')\n",
        "plt.show()"
      ],
      "metadata": {
        "colab": {
          "base_uri": "https://localhost:8080/",
          "height": 419
        },
        "id": "0pX0sw_Y0QjW",
        "outputId": "f8b9043d-583c-4ef0-b67f-2954fdea419c"
      },
      "id": "0pX0sw_Y0QjW",
      "execution_count": 203,
      "outputs": [
        {
          "output_type": "display_data",
          "data": {
            "text/plain": [
              "<Figure size 1000x400 with 2 Axes>"
            ],
            "image/png": "[encoded data removed]"
          },
          "metadata": {}
        }
      ]
    },
    {
      "cell_type": "markdown",
      "source": [
        "Гистограмма ширины сварного шва:\n",
        "\n",
        "Распределение ширины сварного шва имеет несколько мод, подобно распределению глубины сварного шва. Это может свидетельствовать о различных процессах сварки или влиянии разных параметров на ширину сварного соединения.\n",
        "\n",
        "Есть несколько выбросов значений, выходящих за пределы основного диапазона. Эти выбросы могут быть результатом особенных условий сварки или ошибок измерения.\n",
        "\n",
        "Ящик с усами для ширины сварного шва:\n",
        "\n",
        "Медиана ширины сварного шва находится около 1.9 мм.\n",
        "\n",
        "Верхний и нижний квартили указывают на то, что большинство значений находятся между примерно 1.7 и 2.5 мм.\n",
        "\n",
        "Есть несколько выбросов значений с шириной сварного шва ниже 1.7 мм и выше 2.5 мм.\n",
        "\n",
        "Выводы:\n",
        "Ширина сварного шва в также имеет разнообразное распределение с несколькими модами и наличием выбросов, аналогично глубине сварного соединения.\n",
        "Но так как у нас очень мало значений, мы не будем удалять выбросы (тем более мы не можем быть уверены в некорректности данных значений)."
      ],
      "metadata": {
        "id": "oUtHL0qf-mW8"
      },
      "id": "oUtHL0qf-mW8"
    },
    {
      "cell_type": "code",
      "source": [
        "# Матрица корреляции\n",
        "correlation_matrix = data.corr()\n",
        "plt.figure(figsize=(6, 4))\n",
        "sns.heatmap(correlation_matrix, annot=True, cmap='coolwarm', fmt=\".2f\")\n",
        "plt.title('Матрица корреляции')\n",
        "plt.show()"
      ],
      "metadata": {
        "colab": {
          "base_uri": "https://localhost:8080/",
          "height": 395
        },
        "id": "i376XgoI054P",
        "outputId": "4362063f-92f7-4636-9ddc-44d367113c16"
      },
      "id": "i376XgoI054P",
      "execution_count": 204,
      "outputs": [
        {
          "output_type": "display_data",
          "data": {
            "text/plain": [
              "<Figure size 600x400 with 2 Axes>"
            ],
            "image/png": "[encoded data removed]"
          },
          "metadata": {}
        }
      ]
    },
    {
      "cell_type": "markdown",
      "source": [
        "* IW (снижение величины сварочного тока):\n",
        "\n",
        "Отрицательная корреляция с IF (-0.86) указывает на сильную обратную зависимость между снижением величины сварочного тока и током фокусировки электронного пучка.\n",
        "Положительная корреляция с FP (0.84) говорит о том, что увеличение снижения величины сварочного тока связано с увеличением расстояния от поверхности образцов до электронно-оптической системы.\n",
        "Этот параметр не имеет сильной корреляции с глубиной или шириной сварного соединения.\n",
        "* IF (ток фокусировки электронного пучка):\n",
        "\n",
        "Отрицательная корреляция с FP (-0.98) означает, что уменьшение тока фокусировки связано с увеличением расстояния от поверхности образцов до электронно-оптической системы.\n",
        "Этот параметр также не имеет сильной корреляции с глубиной или шириной сварного соединения.\n",
        "* VW (скорость сварки):\n",
        "\n",
        "Отрицательная корреляция с FP (-0.001) означает, что скорость сварки практически не коррелирует с расстоянием от поверхности образцов до электронно-оптической системы.\n",
        "Отрицательная корреляция с Depth (-0.67) и Width (-0.87) говорит о том, что увеличение скорости сварки связано с уменьшением глубины и ширины сварного соединения.\n",
        "\n",
        "\n",
        "Есть признаки, которые сильно коррелируют между собой, например, FP с IW (0.84) или имеют высокую обратную корреляцию, как IF c IW (-0.86).\n",
        "Важно помнить, что корреляция сама по себе не означает причинно-следственной связи между переменными, и мы не всегда должны удалять признаки только из-за сильной корреляции. Однако, при построении модели, можно попробовать удалить один из столбцов, которые сильно коррелируют между собой (например, как IF и FP), так как это может указывать на мультиколлинеарность, что может быть проблемой для некоторых моделей регрессии.\n"
      ],
      "metadata": {
        "id": "ra_5tFLD3F8J"
      },
      "id": "ra_5tFLD3F8J"
    },
    {
      "cell_type": "code",
      "source": [
        "# Диаграммы рассеяния\n",
        "sns.pairplot(data, vars=['Depth', 'Width'], kind='scatter')\n",
        "plt.suptitle('Диаграммы рассеяния')\n",
        "plt.show()"
      ],
      "metadata": {
        "colab": {
          "base_uri": "https://localhost:8080/",
          "height": 513
        },
        "id": "bB54kSOh1EQA",
        "outputId": "8d6f4050-cb64-455c-c611-6ac6c07931fb"
      },
      "id": "bB54kSOh1EQA",
      "execution_count": 205,
      "outputs": [
        {
          "output_type": "display_data",
          "data": {
            "text/plain": [
              "<Figure size 500x500 with 6 Axes>"
            ],
            "image/png": "[encoded data removed]"
          },
          "metadata": {}
        }
      ]
    },
    {
      "cell_type": "markdown",
      "source": [
        "Диаграмма рассеяния позволяет нам визуально оценить отношение между глубиной и шириной сварного соединения. Обратная зависимость между этими двумя параметрами видна, но она не является строго линейной, и существует разброс значений."
      ],
      "metadata": {
        "id": "bpB9V49mAE4J"
      },
      "id": "bpB9V49mAE4J"
    },
    {
      "cell_type": "markdown",
      "source": [
        "##Предобработка данных"
      ],
      "metadata": {
        "id": "HJx8c2NpBt-J"
      },
      "id": "HJx8c2NpBt-J"
    },
    {
      "cell_type": "markdown",
      "source": [
        "Обработка отсутствующих значений:"
      ],
      "metadata": {
        "id": "9LOdA6VVB4_y"
      },
      "id": "9LOdA6VVB4_y"
    },
    {
      "cell_type": "code",
      "source": [
        "data.isnull().sum()"
      ],
      "metadata": {
        "colab": {
          "base_uri": "https://localhost:8080/"
        },
        "id": "qHVM-hY91HxL",
        "outputId": "b32a6188-6d70-4d58-aff4-1b02b78f5b80"
      },
      "id": "qHVM-hY91HxL",
      "execution_count": 206,
      "outputs": [
        {
          "output_type": "execute_result",
          "data": {
            "text/plain": [
              "IW       0\n",
              "IF       0\n",
              "VW       0\n",
              "FP       0\n",
              "Depth    0\n",
              "Width    0\n",
              "dtype: int64"
            ]
          },
          "metadata": {},
          "execution_count": 206
        }
      ]
    },
    {
      "cell_type": "markdown",
      "source": [
        "В данном датасете нет пустых значений.\n",
        "\n",
        "Также пропускаем этап: Кодирование категориальных переменных, т.к. в датасете только количественные переменные(dtype: int64).\n",
        "\n",
        "Масштабирование признаков:\n",
        "\n",
        "Нормализацию применяю только к независимым признакам ('IW', 'IF', 'VW', 'FP'), т.к. нормализация целевых переменных может привести к затруднению интерпретации результатов."
      ],
      "metadata": {
        "id": "adjI7tyiB567"
      },
      "id": "adjI7tyiB567"
    },
    {
      "cell_type": "code",
      "source": [
        "X = data.drop([\"Width\", \"Depth\"], axis=1)\n",
        "Y = data[[\"Width\", \"Depth\"]].copy()\n",
        "X_train, X_test, Y_train, Y_test = train_test_split(X,\n",
        "                                                    Y,\n",
        "                                                    train_size=0.8,\n",
        "                                                    test_size=0.2,\n",
        "                                                    random_state=0,\n",
        "                                                    shuffle=True)"
      ],
      "metadata": {
        "id": "9dhT-mPlsRlO"
      },
      "id": "9dhT-mPlsRlO",
      "execution_count": 207,
      "outputs": []
    },
    {
      "cell_type": "code",
      "source": [
        "X_train.head()"
      ],
      "metadata": {
        "colab": {
          "base_uri": "https://localhost:8080/",
          "height": 206
        },
        "id": "MsB2ZAvRvMdo",
        "outputId": "d1655cdc-eb0b-4e71-c8e4-8b6304eac5c3"
      },
      "id": "MsB2ZAvRvMdo",
      "execution_count": 208,
      "outputs": [
        {
          "output_type": "execute_result",
          "data": {
            "text/plain": [
              "    IW   IF    VW  FP\n",
              "55  43  150   9.0  50\n",
              "70  45  146   9.0  60\n",
              "62  43  146   9.0  60\n",
              "43  47  140  10.0  80\n",
              "4   45  140   4.5  80"
            ],
            "text/html": [
              "\n",
              "  <div id=\"df-50004cc4-e040-4f61-9399-6b5ead164876\" class=\"colab-df-container\">\n",
              "    <div>\n",
              "<style scoped>\n",
              "    .dataframe tbody tr th:only-of-type {\n",
              "        vertical-align: middle;\n",
              "    }\n",
              "\n",
              "    .dataframe tbody tr th {\n",
              "        vertical-align: top;\n",
              "    }\n",
              "\n",
              "    .dataframe thead th {\n",
              "        text-align: right;\n",
              "    }\n",
              "</style>\n",
              "<table border=\"1\" class=\"dataframe\">\n",
              "  <thead>\n",
              "    <tr style=\"text-align: right;\">\n",
              "      <th></th>\n",
              "      <th>IW</th>\n",
              "      <th>IF</th>\n",
              "      <th>VW</th>\n",
              "      <th>FP</th>\n",
              "    </tr>\n",
              "  </thead>\n",
              "  <tbody>\n",
              "    <tr>\n",
              "      <th>55</th>\n",
              "      <td>43</td>\n",
              "      <td>150</td>\n",
              "      <td>9.0</td>\n",
              "      <td>50</td>\n",
              "    </tr>\n",
              "    <tr>\n",
              "      <th>70</th>\n",
              "      <td>45</td>\n",
              "      <td>146</td>\n",
              "      <td>9.0</td>\n",
              "      <td>60</td>\n",
              "    </tr>\n",
              "    <tr>\n",
              "      <th>62</th>\n",
              "      <td>43</td>\n",
              "      <td>146</td>\n",
              "      <td>9.0</td>\n",
              "      <td>60</td>\n",
              "    </tr>\n",
              "    <tr>\n",
              "      <th>43</th>\n",
              "      <td>47</td>\n",
              "      <td>140</td>\n",
              "      <td>10.0</td>\n",
              "      <td>80</td>\n",
              "    </tr>\n",
              "    <tr>\n",
              "      <th>4</th>\n",
              "      <td>45</td>\n",
              "      <td>140</td>\n",
              "      <td>4.5</td>\n",
              "      <td>80</td>\n",
              "    </tr>\n",
              "  </tbody>\n",
              "</table>\n",
              "</div>\n",
              "    <div class=\"colab-df-buttons\">\n",
              "\n",
              "  <div class=\"colab-df-container\">\n",
              "    <button class=\"colab-df-convert\" onclick=\"convertToInteractive('df-50004cc4-e040-4f61-9399-6b5ead164876')\"\n",
              "            title=\"Convert this dataframe to an interactive table.\"\n",
              "            style=\"display:none;\">\n",
              "\n",
              "  <svg xmlns=\"http://www.w3.org/2000/svg\" height=\"24px\" viewBox=\"0 -960 960 960\">\n",
              "    <path d=\"M120-120v-720h720v720H120Zm60-500h600v-160H180v160Zm220 220h160v-160H400v160Zm0 220h160v-160H400v160ZM180-400h160v-160H180v160Zm440 0h160v-160H620v160ZM180-180h160v-160H180v160Zm440 0h160v-160H620v160Z\"/>\n",
              "  </svg>\n",
              "    </button>\n",
              "\n",
              "  <style>\n",
              "    .colab-df-container {\n",
              "      display:flex;\n",
              "      gap: 12px;\n",
              "    }\n",
              "\n",
              "    .colab-df-convert {\n",
              "      background-color: #E8F0FE;\n",
              "      border: none;\n",
              "      border-radius: 50%;\n",
              "      cursor: pointer;\n",
              "      display: none;\n",
              "      fill: #1967D2;\n",
              "      height: 32px;\n",
              "      padding: 0 0 0 0;\n",
              "      width: 32px;\n",
              "    }\n",
              "\n",
              "    .colab-df-convert:hover {\n",
              "      background-color: #E2EBFA;\n",
              "      box-shadow: 0px 1px 2px rgba(60, 64, 67, 0.3), 0px 1px 3px 1px rgba(60, 64, 67, 0.15);\n",
              "      fill: #174EA6;\n",
              "    }\n",
              "\n",
              "    .colab-df-buttons div {\n",
              "      margin-bottom: 4px;\n",
              "    }\n",
              "\n",
              "    [theme=dark] .colab-df-convert {\n",
              "      background-color: #3B4455;\n",
              "      fill: #D2E3FC;\n",
              "    }\n",
              "\n",
              "    [theme=dark] .colab-df-convert:hover {\n",
              "      background-color: #434B5C;\n",
              "      box-shadow: 0px 1px 3px 1px rgba(0, 0, 0, 0.15);\n",
              "      filter: drop-shadow(0px 1px 2px rgba(0, 0, 0, 0.3));\n",
              "      fill: #FFFFFF;\n",
              "    }\n",
              "  </style>\n",
              "\n",
              "    <script>\n",
              "      const buttonEl =\n",
              "        document.querySelector('#df-50004cc4-e040-4f61-9399-6b5ead164876 button.colab-df-convert');\n",
              "      buttonEl.style.display =\n",
              "        google.colab.kernel.accessAllowed ? 'block' : 'none';\n",
              "\n",
              "      async function convertToInteractive(key) {\n",
              "        const element = document.querySelector('#df-50004cc4-e040-4f61-9399-6b5ead164876');\n",
              "        const dataTable =\n",
              "          await google.colab.kernel.invokeFunction('convertToInteractive',\n",
              "                                                    [key], {});\n",
              "        if (!dataTable) return;\n",
              "\n",
              "        const docLinkHtml = 'Like what you see? Visit the ' +\n",
              "          '<a target=\"_blank\" href=https://colab.research.google.com/notebooks/data_table.ipynb>data table notebook</a>'\n",
              "          + ' to learn more about interactive tables.';\n",
              "        element.innerHTML = '';\n",
              "        dataTable['output_type'] = 'display_data';\n",
              "        await google.colab.output.renderOutput(dataTable, element);\n",
              "        const docLink = document.createElement('div');\n",
              "        docLink.innerHTML = docLinkHtml;\n",
              "        element.appendChild(docLink);\n",
              "      }\n",
              "    </script>\n",
              "  </div>\n",
              "\n",
              "\n",
              "<div id=\"df-e5483c22-9437-4651-aad6-3fafc12c434c\">\n",
              "  <button class=\"colab-df-quickchart\" onclick=\"quickchart('df-e5483c22-9437-4651-aad6-3fafc12c434c')\"\n",
              "            title=\"Suggest charts.\"\n",
              "            style=\"display:none;\">\n",
              "\n",
              "<svg xmlns=\"http://www.w3.org/2000/svg\" height=\"24px\"viewBox=\"0 0 24 24\"\n",
              "     width=\"24px\">\n",
              "    <g>\n",
              "        <path d=\"M19 3H5c-1.1 0-2 .9-2 2v14c0 1.1.9 2 2 2h14c1.1 0 2-.9 2-2V5c0-1.1-.9-2-2-2zM9 17H7v-7h2v7zm4 0h-2V7h2v10zm4 0h-2v-4h2v4z\"/>\n",
              "    </g>\n",
              "</svg>\n",
              "  </button>\n",
              "\n",
              "<style>\n",
              "  .colab-df-quickchart {\n",
              "      --bg-color: #E8F0FE;\n",
              "      --fill-color: #1967D2;\n",
              "      --hover-bg-color: #E2EBFA;\n",
              "      --hover-fill-color: #174EA6;\n",
              "      --disabled-fill-color: #AAA;\n",
              "      --disabled-bg-color: #DDD;\n",
              "  }\n",
              "\n",
              "  [theme=dark] .colab-df-quickchart {\n",
              "      --bg-color: #3B4455;\n",
              "      --fill-color: #D2E3FC;\n",
              "      --hover-bg-color: #434B5C;\n",
              "      --hover-fill-color: #FFFFFF;\n",
              "      --disabled-bg-color: #3B4455;\n",
              "      --disabled-fill-color: #666;\n",
              "  }\n",
              "\n",
              "  .colab-df-quickchart {\n",
              "    background-color: var(--bg-color);\n",
              "    border: none;\n",
              "    border-radius: 50%;\n",
              "    cursor: pointer;\n",
              "    display: none;\n",
              "    fill: var(--fill-color);\n",
              "    height: 32px;\n",
              "    padding: 0;\n",
              "    width: 32px;\n",
              "  }\n",
              "\n",
              "  .colab-df-quickchart:hover {\n",
              "    background-color: var(--hover-bg-color);\n",
              "    box-shadow: 0 1px 2px rgba(60, 64, 67, 0.3), 0 1px 3px 1px rgba(60, 64, 67, 0.15);\n",
              "    fill: var(--button-hover-fill-color);\n",
              "  }\n",
              "\n",
              "  .colab-df-quickchart-complete:disabled,\n",
              "  .colab-df-quickchart-complete:disabled:hover {\n",
              "    background-color: var(--disabled-bg-color);\n",
              "    fill: var(--disabled-fill-color);\n",
              "    box-shadow: none;\n",
              "  }\n",
              "\n",
              "  .colab-df-spinner {\n",
              "    border: 2px solid var(--fill-color);\n",
              "    border-color: transparent;\n",
              "    border-bottom-color: var(--fill-color);\n",
              "    animation:\n",
              "      spin 1s steps(1) infinite;\n",
              "  }\n",
              "\n",
              "  @keyframes spin {\n",
              "    0% {\n",
              "      border-color: transparent;\n",
              "      border-bottom-color: var(--fill-color);\n",
              "      border-left-color: var(--fill-color);\n",
              "    }\n",
              "    20% {\n",
              "      border-color: transparent;\n",
              "      border-left-color: var(--fill-color);\n",
              "      border-top-color: var(--fill-color);\n",
              "    }\n",
              "    30% {\n",
              "      border-color: transparent;\n",
              "      border-left-color: var(--fill-color);\n",
              "      border-top-color: var(--fill-color);\n",
              "      border-right-color: var(--fill-color);\n",
              "    }\n",
              "    40% {\n",
              "      border-color: transparent;\n",
              "      border-right-color: var(--fill-color);\n",
              "      border-top-color: var(--fill-color);\n",
              "    }\n",
              "    60% {\n",
              "      border-color: transparent;\n",
              "      border-right-color: var(--fill-color);\n",
              "    }\n",
              "    80% {\n",
              "      border-color: transparent;\n",
              "      border-right-color: var(--fill-color);\n",
              "      border-bottom-color: var(--fill-color);\n",
              "    }\n",
              "    90% {\n",
              "      border-color: transparent;\n",
              "      border-bottom-color: var(--fill-color);\n",
              "    }\n",
              "  }\n",
              "</style>\n",
              "\n",
              "  <script>\n",
              "    async function quickchart(key) {\n",
              "      const quickchartButtonEl =\n",
              "        document.querySelector('#' + key + ' button');\n",
              "      quickchartButtonEl.disabled = true;  // To prevent multiple clicks.\n",
              "      quickchartButtonEl.classList.add('colab-df-spinner');\n",
              "      try {\n",
              "        const charts = await google.colab.kernel.invokeFunction(\n",
              "            'suggestCharts', [key], {});\n",
              "      } catch (error) {\n",
              "        console.error('Error during call to suggestCharts:', error);\n",
              "      }\n",
              "      quickchartButtonEl.classList.remove('colab-df-spinner');\n",
              "      quickchartButtonEl.classList.add('colab-df-quickchart-complete');\n",
              "    }\n",
              "    (() => {\n",
              "      let quickchartButtonEl =\n",
              "        document.querySelector('#df-e5483c22-9437-4651-aad6-3fafc12c434c button');\n",
              "      quickchartButtonEl.style.display =\n",
              "        google.colab.kernel.accessAllowed ? 'block' : 'none';\n",
              "    })();\n",
              "  </script>\n",
              "</div>\n",
              "    </div>\n",
              "  </div>\n"
            ]
          },
          "metadata": {},
          "execution_count": 208
        }
      ]
    },
    {
      "cell_type": "code",
      "source": [
        "scaler = MinMaxScaler()\n",
        "X_train_norm = scaler.fit_transform(X_train)\n",
        "X_test_norm = scaler.transform(X_test)\n",
        "# возвращаем название столбцов\n",
        "X_train_norm = pd.DataFrame(data=X_train_norm, columns=[ 'IW', 'IF', 'VW', 'FP'])\n",
        "X_test_norm = pd.DataFrame(data=X_test_norm, columns=[ 'IW', 'IF', 'VW', 'FP'])"
      ],
      "metadata": {
        "id": "1lRzAXdLB9wg"
      },
      "id": "1lRzAXdLB9wg",
      "execution_count": 209,
      "outputs": []
    },
    {
      "cell_type": "markdown",
      "source": [
        "Выбор признаков\n",
        "\n",
        "Есть несколько признаков, которые сильно коррелируют друг с другом, рассмотрим след. варианты:\n",
        "\n",
        "1. Оставить все признаки и посмотреть, как они влияют на модель.\n",
        "2. Удалить один из сильно коррелированных признаков."
      ],
      "metadata": {
        "id": "yb1KQD80B-iT"
      },
      "id": "yb1KQD80B-iT"
    },
    {
      "cell_type": "code",
      "source": [
        "# Оставить все признаки и посмотреть, как они влияют на модель.\n",
        "X_train_v1 = X_train_norm\n",
        "X_test_v1 = X_test_norm\n",
        "# Корреляция FP c IW (0.84) и FP с IF (-0.98)\n",
        "X_train_v2 = X_train_norm.drop('FP', axis=1)\n",
        "X_test_v2 = X_test_norm.drop('FP', axis=1)"
      ],
      "metadata": {
        "id": "qvTpWzY8CA-g"
      },
      "id": "qvTpWzY8CA-g",
      "execution_count": 210,
      "outputs": []
    },
    {
      "cell_type": "markdown",
      "source": [
        "Разделение данных\n",
        "\n",
        "так как мы имеем небольшую выборку (72, 6), то оптимальным решением для разделением данных будет кросс-валидацию."
      ],
      "metadata": {
        "id": "grNemZStCCrK"
      },
      "id": "grNemZStCCrK"
    },
    {
      "cell_type": "markdown",
      "source": [
        "# Создание модели\n",
        "## Линейная регрессия\n",
        "### датасет 1"
      ],
      "metadata": {
        "id": "Nao1c5MhwULM"
      },
      "id": "Nao1c5MhwULM"
    },
    {
      "cell_type": "code",
      "source": [
        "%%time\n",
        "# Создание модели\n",
        "model_1 = MultiOutputRegressor(LinearRegression())\n",
        "\n",
        "# Обучение модели на всем обучающем наборе данных\n",
        "model_1.fit(X_train_v1, Y_train)\n",
        "\n",
        "# Оценка модели на тестовых данных\n",
        "Y_pred = model_1.predict(X_test_v1)\n",
        "mse = mean_squared_error(Y_test, Y_pred, multioutput='raw_values')\n",
        "\n",
        "print(\"Среднеквадратичная ошибка на тестовых данных:\", mse)"
      ],
      "metadata": {
        "colab": {
          "base_uri": "https://localhost:8080/"
        },
        "id": "yHM1_LJcCDDY",
        "outputId": "6797ab06-2bcd-44d5-b2cc-68e8029d637c"
      },
      "id": "yHM1_LJcCDDY",
      "execution_count": 211,
      "outputs": [
        {
          "output_type": "stream",
          "name": "stdout",
          "text": [
            "Среднеквадратичная ошибка на тестовых данных: [0.00659689 0.02090893]\n",
            "CPU times: user 13.4 ms, sys: 0 ns, total: 13.4 ms\n",
            "Wall time: 15.7 ms\n"
          ]
        }
      ]
    },
    {
      "cell_type": "markdown",
      "source": [
        "### датасет 2"
      ],
      "metadata": {
        "id": "XTP-K4T3zWwG"
      },
      "id": "XTP-K4T3zWwG"
    },
    {
      "cell_type": "code",
      "source": [
        "%%time\n",
        "model_2 = MultiOutputRegressor(LinearRegression())\n",
        "# Обучение модели на всем обучающем наборе данных\n",
        "model_2.fit(X_train_v2, Y_train)\n",
        "\n",
        "# Оценка модели на тестовых данных\n",
        "Y_pred = model_2.predict(X_test_v2)\n",
        "mse = mean_squared_error(Y_test, Y_pred, multioutput='raw_values')\n",
        "\n",
        "print(\"Среднеквадратичная ошибка на тестовых данных:\", mse)"
      ],
      "metadata": {
        "colab": {
          "base_uri": "https://localhost:8080/"
        },
        "id": "amVSfAWJzUKp",
        "outputId": "85c06022-4b8e-46de-c10d-075c5dde8668"
      },
      "id": "amVSfAWJzUKp",
      "execution_count": 212,
      "outputs": [
        {
          "output_type": "stream",
          "name": "stdout",
          "text": [
            "Среднеквадратичная ошибка на тестовых данных: [0.00655485 0.01385547]\n",
            "CPU times: user 13 ms, sys: 0 ns, total: 13 ms\n",
            "Wall time: 13 ms\n"
          ]
        }
      ]
    },
    {
      "cell_type": "markdown",
      "source": [
        "1. Полный датасет (включая столбец FP) имеет следующие значения MSE для двух целевых переменных: [0.00659689, 0.02090893].\n",
        "\n",
        "2. Когда столбец FP был удален из датасета, MSE уменьшилась для обеих целевых переменных: [0.00655485, 0.01385547].\n",
        "\n",
        "Это может означать, что удаление столбца FP из датасета улучшило производительность модели, поскольку MSE уменьшилась для обеих целевых переменных. Корреляция может указывать на мультиколлинеарность, что может привести к нестабильным или менее точным оценкам модели. Но также это может означать:\n",
        "1. Переобучение: у нас мало наблюдений, включение или исключение конкретных признаков может влиять на производительность модели из-за ограниченного размера обучающей выборки. Модель может переобучаться на конкретных признаках, что может привести к изменению ее поведения.\n",
        "2. Случайность: Возможно, что различия в ошибках при использовании исходных данных и данных без столбца FP могут быть случайными.\n",
        "\n",
        "Чтобы исклучить возможность переобучения и случайности - попробуем след. модели:\n"
      ],
      "metadata": {
        "id": "l-BzQNdJ1-e4"
      },
      "id": "l-BzQNdJ1-e4"
    },
    {
      "cell_type": "markdown",
      "source": [
        "## Случайный лес\n",
        "###(так же используем GridSearchCV - для выбора лучших парметров)\n",
        "### датасет 1"
      ],
      "metadata": {
        "id": "YS8RmjDREg0X"
      },
      "id": "YS8RmjDREg0X"
    },
    {
      "cell_type": "code",
      "source": [
        "%%time\n",
        "# Создание модели\n",
        "model_1 = MultiOutputRegressor(RandomForestRegressor())\n",
        "# Выбор праметров\n",
        "parametrs = {\n",
        "    'estimator__n_estimators': list(range(30, 50, 2)),\n",
        "    'estimator__max_depth': list(range(5, 10)),\n",
        "    'estimator__min_samples_leaf': list(range(1,5,2)),\n",
        "    'estimator__min_samples_split': list(range(2, 5, 2))\n",
        "}\n",
        "grid_search_cv1 = GridSearchCV(model_1, parametrs, cv=5, n_jobs=-1)\n",
        "# Обучение модели на всем обучающем наборе данных\n",
        "grid_search_cv1.fit(X_train_v1, Y_train)\n",
        "# Лучшие параметры и модель\n",
        "best_params_v1 = grid_search_cv1.best_params_\n",
        "best_model_v1 = grid_search_cv1.best_estimator_\n",
        "# Оценка производительности на тестовых данных\n",
        "Y_pred_v1 = best_model_v1.predict(X_test_v1)\n",
        "mse_v1 = mean_squared_error(Y_test, Y_pred_v1, multioutput='raw_values')\n",
        "\n",
        "print(\"Лучшие параметры и MSE для пайплайна с X_train_v1:\")\n",
        "print(best_params_v1)\n",
        "print(\"Среднеквадратичная ошибка на тестовых данных:\", mse_v1)\n"
      ],
      "metadata": {
        "colab": {
          "base_uri": "https://localhost:8080/"
        },
        "id": "lWiTE_DaFuv6",
        "outputId": "fb25e14b-25ac-4a38-db6c-ba43f2f828ec"
      },
      "id": "lWiTE_DaFuv6",
      "execution_count": 213,
      "outputs": [
        {
          "output_type": "stream",
          "name": "stdout",
          "text": [
            "Лучшие параметры и MSE для пайплайна с X_train_v1:\n",
            "{'estimator__max_depth': 9, 'estimator__min_samples_leaf': 1, 'estimator__min_samples_split': 2, 'estimator__n_estimators': 48}\n",
            "Среднеквадратичная ошибка на тестовых данных: [0.00515384 0.01065399]\n",
            "CPU times: user 2.59 s, sys: 305 ms, total: 2.9 s\n",
            "Wall time: 1min 12s\n"
          ]
        }
      ]
    },
    {
      "cell_type": "markdown",
      "source": [
        "### датасет 2"
      ],
      "metadata": {
        "id": "V54UOopOyp7W"
      },
      "id": "V54UOopOyp7W"
    },
    {
      "cell_type": "code",
      "source": [
        "%%time\n",
        "model_2 = MultiOutputRegressor(RandomForestRegressor())\n",
        "parametrs = {\n",
        "    'estimator__n_estimators': list(range(30, 50, 2)),\n",
        "    'estimator__max_depth': list(range(5, 10)),\n",
        "    'estimator__min_samples_leaf': list(range(1,5,2)),\n",
        "    'estimator__min_samples_split': list(range(2, 5, 2))\n",
        "}\n",
        "grid_search_cv2 = GridSearchCV(model_2, parametrs, cv=5, n_jobs=-1)\n",
        "# Обучение модели без столбца FP\n",
        "grid_search_cv2.fit(X_train_v2, Y_train)\n",
        "best_params_v2 = grid_search_cv2.best_params_\n",
        "best_model_v2 = grid_search_cv2.best_estimator_\n",
        "Y_pred_v2 = best_model_v2.predict(X_test_v2)\n",
        "mse_v2 = mean_squared_error(Y_test, Y_pred_v2, multioutput='raw_values')\n",
        "\n",
        "print(f\"Лучшие параметры и MSE для пайплайна с X_train_v2: {best_params_v2}\")\n",
        "print(\"Среднеквадратичная ошибка на тестовых данных:\", mse_v2)"
      ],
      "metadata": {
        "colab": {
          "base_uri": "https://localhost:8080/"
        },
        "id": "nrzS1D7hHo3c",
        "outputId": "5d6c95b0-86ec-4d4b-dd3d-dee8bf88efc6"
      },
      "id": "nrzS1D7hHo3c",
      "execution_count": 214,
      "outputs": [
        {
          "output_type": "stream",
          "name": "stdout",
          "text": [
            "Лучшие параметры и MSE для пайплайна с X_train_v2: {'estimator__max_depth': 5, 'estimator__min_samples_leaf': 1, 'estimator__min_samples_split': 2, 'estimator__n_estimators': 38}\n",
            "Среднеквадратичная ошибка на тестовых данных: [0.00560029 0.00986521]\n",
            "CPU times: user 1.89 s, sys: 220 ms, total: 2.11 s\n",
            "Wall time: 1min 12s\n"
          ]
        }
      ]
    },
    {
      "cell_type": "markdown",
      "source": [
        "1. Среднеквадратичная ошибка на тестовых данных (без удаления столбцов): [0.00515384 0.01065399].\n",
        "\n",
        "2. Среднеквадратичная ошибка на тестовых данных(без столбца FP): [0.00560029 0.00986521].\n",
        "\n",
        "\n",
        "Сравнение с линейной регрессией:\n",
        "1. У обеих моделей случайного леса (с FP и без FP) среднеквадратичная ошибка ниже, чем у линейной регрессии. Это может указывать на то, что случайный лес лучше подходит для данной задачи регрессии.\n",
        "\n",
        "2. Cтолбец FP не имеет значительного влияния на производительность модели случайного леса в данном случае.\n",
        "Вероятно, различия в среднеквадратичной ошибке можно объяснить случайными факторами или ограниченным размером обучающей выборки.\n",
        "\n",
        "##Градиентный бустинг\n",
        "### датасет 1"
      ],
      "metadata": {
        "id": "rk7k_dqvL47L"
      },
      "id": "rk7k_dqvL47L"
    },
    {
      "cell_type": "code",
      "source": [
        "%%time\n",
        "# Создание модели\n",
        "model_gb_1 = MultiOutputRegressor(GradientBoostingRegressor())\n",
        "\n",
        "# Определение параметров для поиска\n",
        "parametrs_gb = {\n",
        "    'estimator__n_estimators': list(range(1, 100, 10)),\n",
        "    'estimator__max_depth': list(range(1, 10)),\n",
        "    'estimator__learning_rate': [0.01],\n",
        "}\n",
        "grid_search_cv_gb = GridSearchCV(model_gb_1, parametrs_gb, cv=5, n_jobs=-1)\n",
        "# Обучение модели на всем обучающем наборе данных\n",
        "grid_search_cv_gb.fit(X_train_v1, Y_train)\n",
        "# Лучшие параметры и модель\n",
        "best_params_gb = grid_search_cv_gb.best_params_\n",
        "best_model_gb = grid_search_cv_gb.best_estimator_\n",
        "# Оценка производительности на тестовых данных\n",
        "Y_pred_gb = best_model_gb.predict(X_test_v1)\n",
        "mse_gb = mean_squared_error(Y_test, Y_pred_gb, multioutput='raw_values')\n",
        "\n",
        "print(f\"Лучшие параметры и MSE для градиентного бустинга с X_train_v2: {best_params_gb}\")\n",
        "print(\"Среднеквадратичная ошибка на тестовых данных:\", mse_gb)"
      ],
      "metadata": {
        "colab": {
          "base_uri": "https://localhost:8080/"
        },
        "id": "Rpxg-W5m78tE",
        "outputId": "93f61c15-17b6-47b9-92e5-b82345ad627b"
      },
      "id": "Rpxg-W5m78tE",
      "execution_count": 215,
      "outputs": [
        {
          "output_type": "stream",
          "name": "stdout",
          "text": [
            "Лучшие параметры и MSE для градиентного бустинга с X_train_v2: {'estimator__learning_rate': 0.01, 'estimator__max_depth': 7, 'estimator__n_estimators': 91}\n",
            "Среднеквадратичная ошибка на тестовых данных: [0.01673206 0.00708907]\n",
            "CPU times: user 497 ms, sys: 61.5 ms, total: 558 ms\n",
            "Wall time: 14.5 s\n"
          ]
        }
      ]
    },
    {
      "cell_type": "markdown",
      "source": [
        "### датасет 2"
      ],
      "metadata": {
        "id": "cTNctcp1040t"
      },
      "id": "cTNctcp1040t"
    },
    {
      "cell_type": "code",
      "source": [
        "%%time\n",
        "# Создание модели\n",
        "model_gb_2 = MultiOutputRegressor(GradientBoostingRegressor())\n",
        "\n",
        "# Определение параметров для поиска\n",
        "parametrs_gb = {\n",
        "    'estimator__n_estimators': list(range(1, 100, 10)),\n",
        "    'estimator__max_depth': list(range(1, 10)),\n",
        "    'estimator__learning_rate': [0.01],\n",
        "}\n",
        "grid_search_cv_gb = GridSearchCV(model_gb_2, parametrs_gb, cv=5, n_jobs=-1)\n",
        "# Обучение модели на всем обучающем наборе данных\n",
        "grid_search_cv_gb.fit(X_train_v2, Y_train)\n",
        "# Лучшие параметры и модель\n",
        "best_params_gb = grid_search_cv_gb.best_params_\n",
        "best_model_gb = grid_search_cv_gb.best_estimator_\n",
        "# Оценка производительности на тестовых данных\n",
        "Y_pred_gb = best_model_gb.predict(X_test_v2)\n",
        "mse_gb = mean_squared_error(Y_test, Y_pred_gb, multioutput='raw_values')\n",
        "\n",
        "print(f\"Лучшие параметры и MSE для градиентного бустинга с X_train_v2: {best_params_gb}\")\n",
        "print(\"Среднеквадратичная ошибка на тестовых данных:\", mse_gb)"
      ],
      "metadata": {
        "colab": {
          "base_uri": "https://localhost:8080/"
        },
        "id": "phM6SAnj04BT",
        "outputId": "b1833426-56a0-4818-f780-767ed3785634"
      },
      "id": "phM6SAnj04BT",
      "execution_count": 216,
      "outputs": [
        {
          "output_type": "stream",
          "name": "stdout",
          "text": [
            "Лучшие параметры и MSE для градиентного бустинга с X_train_v2: {'estimator__learning_rate': 0.01, 'estimator__max_depth': 7, 'estimator__n_estimators': 91}\n",
            "Среднеквадратичная ошибка на тестовых данных: [0.01673206 0.00708907]\n",
            "CPU times: user 589 ms, sys: 52.5 ms, total: 642 ms\n",
            "Wall time: 15.2 s\n"
          ]
        }
      ]
    },
    {
      "cell_type": "markdown",
      "source": [
        "Полный датасет (включая столбец FP) для модели градиентного бустинга имеет следующие значения MSE для двух целевых переменных: [0.01673206 0.00708907].\n",
        "\n",
        "Когда столбец FP был удален из датасета, MSE остались практически неизменными и составили [0.01673206 0.00708907]. Это может указывать на то, что в данном конкретном случае столбец FP не оказывает существенного влияния на производительность модели градиентного бустинга. Возможно, модель градиентного бустинга более устойчива к корреляции и мультиколлинеарности, чем другие модели, такие как линейная регрессия и случайный лес.\n",
        "\n",
        "Также стоит отметить, что размер выборки (72 значения) может оказать влияние на разницу в производительности модели. Изменения могут быть менее выраженными в случае ограниченного объема данных.\n"
      ],
      "metadata": {
        "id": "vQf-EJyTIdDq"
      },
      "id": "vQf-EJyTIdDq"
    },
    {
      "cell_type": "markdown",
      "source": [
        "Вывод:\n",
        "\n",
        "1. Удаление столбца FP из датасета оказало существенное влияние на производительность модели линейной регрессии, улучшив ее результаты. Однако для модели случайного леса и градиентного бустинга столбец FP не оказал значительного влияния.\n",
        "\n",
        "2. Возможно, модель градиентного бустинга оказалась более устойчивой к корреляции и мультиколлинеарности по сравнению с другими моделями.\n",
        "\n",
        "3. С учетом анализа и сравнения производительности моделей, модель случайного леса показала наилучшие результаты с минимальными значениями MSE для обоих целевых переменных (Width и Depth). Модель градиентного бустинга также показала хорошие результаты для Depth, но значение MSE для Width сильно хуже, чем у случайного леса.\n",
        "\n",
        "На основании анализа, можно сделать вывод, что модель случайного леса является предпочтительным выбором для решения данной задачи регрессии, поскольку она продемонстрировала наилучшую производительность с наименьшими ошибками."
      ],
      "metadata": {
        "id": "we7LDxoVP4qs"
      },
      "id": "we7LDxoVP4qs"
    }
  ],
  "metadata": {
    "kernelspec": {
      "display_name": "Python 3 (ipykernel)",
      "language": "python",
      "name": "python3"
    },
    "language_info": {
      "codemirror_mode": {
        "name": "ipython",
        "version": 3
      },
      "file_extension": ".py",
      "mimetype": "text/x-python",
      "name": "python",
      "nbconvert_exporter": "python",
      "pygments_lexer": "ipython3",
      "version": "3.11.4"
    },
    "colab": {
      "provenance": []
    }
  },
  "nbformat": 4,
  "nbformat_minor": 5
}